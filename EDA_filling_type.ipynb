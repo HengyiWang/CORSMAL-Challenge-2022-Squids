{
  "cells": [
    {
      "cell_type": "code",
      "source": [
        "from google.colab import drive\n",
        "drive.mount('/content/drive')"
      ],
      "metadata": {
        "colab": {
          "base_uri": "https://localhost:8080/"
        },
        "id": "WWmU22XVVe8w",
        "outputId": "ea6b02c7-f4fd-4592-adcb-2e10b0752570"
      },
      "execution_count": 25,
      "outputs": [
        {
          "output_type": "stream",
          "name": "stdout",
          "text": [
            "Drive already mounted at /content/drive; to attempt to forcibly remount, call drive.mount(\"/content/drive\", force_remount=True).\n"
          ]
        }
      ]
    },
    {
      "cell_type": "code",
      "source": [
        "!cp -R /content/drive/MyDrive/COSRMAL_CHALLENGE/train /content/train"
      ],
      "metadata": {
        "colab": {
          "base_uri": "https://localhost:8080/"
        },
        "id": "ZDT9nj_pVlKi",
        "outputId": "01148086-4422-45c9-dce3-81e8a3433ac9"
      },
      "execution_count": 26,
      "outputs": [
        {
          "output_type": "stream",
          "name": "stdout",
          "text": [
            "^C\n"
          ]
        }
      ]
    },
    {
      "cell_type": "code",
      "source": [
        "!cp -R /content/drive/MyDrive/COSRMAL_CHALLENGE/pyAudioAnalysis /content/pyAudioAnalysis"
      ],
      "metadata": {
        "colab": {
          "base_uri": "https://localhost:8080/"
        },
        "id": "YJb7ChsTWGi_",
        "outputId": "2f47a5ae-14b1-4b09-e0d7-b37894c764b2"
      },
      "execution_count": 27,
      "outputs": [
        {
          "output_type": "stream",
          "name": "stdout",
          "text": [
            "^C\n"
          ]
        }
      ]
    },
    {
      "cell_type": "code",
      "source": [
        "!pip install eyed3\n",
        "!pip install pydub"
      ],
      "metadata": {
        "id": "7NDg4YZqWv_-"
      },
      "execution_count": null,
      "outputs": []
    },
    {
      "cell_type": "code",
      "source": [
        "!wget https://corsmal.eecs.qmul.ac.uk/data/CCM/ccm_train_annotation.json"
      ],
      "metadata": {
        "id": "F-vduf05YKM7"
      },
      "execution_count": null,
      "outputs": []
    },
    {
      "cell_type": "code",
      "execution_count": 37,
      "metadata": {
        "id": "-WQ-79y1-DvF"
      },
      "outputs": [],
      "source": [
        "import json\n",
        "import pandas as pd\n",
        "import os\n",
        "import numpy as np\n",
        "from scipy.io import wavfile\n",
        "import matplotlib.pyplot as plt\n",
        "import IPython\n",
        "import scipy\n",
        "import wave\n",
        "import seaborn as sns\n",
        "import IPython.display as ipd\n",
        "import librosa\n",
        "import torch\n",
        "import random\n",
        "from torch.utils.data import Dataset, DataLoader\n",
        "import torch.nn as nn\n",
        "import torch.nn.functional as F\n",
        "import torch.optim as optim\n",
        "from torch.nn import Module\n",
        "from pyAudioAnalysis import audioTrainTest as aT\n",
        "from pyAudioAnalysis import MidTermFeatures as aF"
      ]
    },
    {
      "cell_type": "code",
      "execution_count": 44,
      "metadata": {
        "colab": {
          "base_uri": "https://localhost:8080/",
          "height": 322
        },
        "id": "LgYNk505DtAW",
        "outputId": "56ce9d12-3d85-4a08-9bd3-826b5809f21b"
      },
      "outputs": [
        {
          "output_type": "execute_result",
          "data": {
            "text/html": [
              "\n",
              "  <div id=\"df-75d617e8-87ed-48b9-b2cd-cb6a4106ee32\">\n",
              "    <div class=\"colab-df-container\">\n",
              "      <div>\n",
              "<style scoped>\n",
              "    .dataframe tbody tr th:only-of-type {\n",
              "        vertical-align: middle;\n",
              "    }\n",
              "\n",
              "    .dataframe tbody tr th {\n",
              "        vertical-align: top;\n",
              "    }\n",
              "\n",
              "    .dataframe thead th {\n",
              "        text-align: right;\n",
              "    }\n",
              "</style>\n",
              "<table border=\"1\" class=\"dataframe\">\n",
              "  <thead>\n",
              "    <tr style=\"text-align: right;\">\n",
              "      <th></th>\n",
              "      <th>id</th>\n",
              "      <th>container id</th>\n",
              "      <th>scenario</th>\n",
              "      <th>background</th>\n",
              "      <th>illumination</th>\n",
              "      <th>width at the top</th>\n",
              "      <th>width at the bottom</th>\n",
              "      <th>height</th>\n",
              "      <th>depth</th>\n",
              "      <th>container capacity</th>\n",
              "      <th>container mass</th>\n",
              "      <th>filling type</th>\n",
              "      <th>filling level</th>\n",
              "      <th>filling density</th>\n",
              "      <th>filling mass</th>\n",
              "      <th>object mass</th>\n",
              "      <th>handover starting frame</th>\n",
              "      <th>handover start timestamp</th>\n",
              "      <th>handover hand</th>\n",
              "      <th>nframes</th>\n",
              "    </tr>\n",
              "  </thead>\n",
              "  <tbody>\n",
              "    <tr>\n",
              "      <th>0</th>\n",
              "      <td>0</td>\n",
              "      <td>2</td>\n",
              "      <td>2</td>\n",
              "      <td>1</td>\n",
              "      <td>0</td>\n",
              "      <td>69.0</td>\n",
              "      <td>42.0</td>\n",
              "      <td>72.0</td>\n",
              "      <td>-1.0</td>\n",
              "      <td>185.000</td>\n",
              "      <td>2.0</td>\n",
              "      <td>2</td>\n",
              "      <td>1</td>\n",
              "      <td>0.82</td>\n",
              "      <td>76.0</td>\n",
              "      <td>78.0</td>\n",
              "      <td>-1</td>\n",
              "      <td>-1</td>\n",
              "      <td>-1</td>\n",
              "      <td>291576</td>\n",
              "    </tr>\n",
              "    <tr>\n",
              "      <th>1</th>\n",
              "      <td>1</td>\n",
              "      <td>7</td>\n",
              "      <td>0</td>\n",
              "      <td>0</td>\n",
              "      <td>0</td>\n",
              "      <td>193.0</td>\n",
              "      <td>193.0</td>\n",
              "      <td>241.0</td>\n",
              "      <td>69.0</td>\n",
              "      <td>3209.397</td>\n",
              "      <td>59.0</td>\n",
              "      <td>0</td>\n",
              "      <td>0</td>\n",
              "      <td>0.00</td>\n",
              "      <td>0.0</td>\n",
              "      <td>59.0</td>\n",
              "      <td>-1</td>\n",
              "      <td>-1</td>\n",
              "      <td>-1</td>\n",
              "      <td>118483</td>\n",
              "    </tr>\n",
              "    <tr>\n",
              "      <th>2</th>\n",
              "      <td>2</td>\n",
              "      <td>2</td>\n",
              "      <td>0</td>\n",
              "      <td>1</td>\n",
              "      <td>0</td>\n",
              "      <td>69.0</td>\n",
              "      <td>42.0</td>\n",
              "      <td>72.0</td>\n",
              "      <td>-1.0</td>\n",
              "      <td>185.000</td>\n",
              "      <td>2.0</td>\n",
              "      <td>3</td>\n",
              "      <td>1</td>\n",
              "      <td>1.00</td>\n",
              "      <td>93.0</td>\n",
              "      <td>95.0</td>\n",
              "      <td>-1</td>\n",
              "      <td>-1</td>\n",
              "      <td>-1</td>\n",
              "      <td>572008</td>\n",
              "    </tr>\n",
              "    <tr>\n",
              "      <th>3</th>\n",
              "      <td>3</td>\n",
              "      <td>8</td>\n",
              "      <td>0</td>\n",
              "      <td>1</td>\n",
              "      <td>0</td>\n",
              "      <td>135.0</td>\n",
              "      <td>135.0</td>\n",
              "      <td>164.0</td>\n",
              "      <td>56.0</td>\n",
              "      <td>1239.840</td>\n",
              "      <td>31.0</td>\n",
              "      <td>0</td>\n",
              "      <td>0</td>\n",
              "      <td>0.00</td>\n",
              "      <td>0.0</td>\n",
              "      <td>31.0</td>\n",
              "      <td>-1</td>\n",
              "      <td>-1</td>\n",
              "      <td>-1</td>\n",
              "      <td>141680</td>\n",
              "    </tr>\n",
              "    <tr>\n",
              "      <th>4</th>\n",
              "      <td>4</td>\n",
              "      <td>4</td>\n",
              "      <td>1</td>\n",
              "      <td>1</td>\n",
              "      <td>0</td>\n",
              "      <td>88.0</td>\n",
              "      <td>56.0</td>\n",
              "      <td>91.0</td>\n",
              "      <td>-1.0</td>\n",
              "      <td>296.000</td>\n",
              "      <td>86.0</td>\n",
              "      <td>1</td>\n",
              "      <td>1</td>\n",
              "      <td>0.34</td>\n",
              "      <td>45.0</td>\n",
              "      <td>131.0</td>\n",
              "      <td>-1</td>\n",
              "      <td>-1</td>\n",
              "      <td>-1</td>\n",
              "      <td>138681</td>\n",
              "    </tr>\n",
              "  </tbody>\n",
              "</table>\n",
              "</div>\n",
              "      <button class=\"colab-df-convert\" onclick=\"convertToInteractive('df-75d617e8-87ed-48b9-b2cd-cb6a4106ee32')\"\n",
              "              title=\"Convert this dataframe to an interactive table.\"\n",
              "              style=\"display:none;\">\n",
              "        \n",
              "  <svg xmlns=\"http://www.w3.org/2000/svg\" height=\"24px\"viewBox=\"0 0 24 24\"\n",
              "       width=\"24px\">\n",
              "    <path d=\"M0 0h24v24H0V0z\" fill=\"none\"/>\n",
              "    <path d=\"M18.56 5.44l.94 2.06.94-2.06 2.06-.94-2.06-.94-.94-2.06-.94 2.06-2.06.94zm-11 1L8.5 8.5l.94-2.06 2.06-.94-2.06-.94L8.5 2.5l-.94 2.06-2.06.94zm10 10l.94 2.06.94-2.06 2.06-.94-2.06-.94-.94-2.06-.94 2.06-2.06.94z\"/><path d=\"M17.41 7.96l-1.37-1.37c-.4-.4-.92-.59-1.43-.59-.52 0-1.04.2-1.43.59L10.3 9.45l-7.72 7.72c-.78.78-.78 2.05 0 2.83L4 21.41c.39.39.9.59 1.41.59.51 0 1.02-.2 1.41-.59l7.78-7.78 2.81-2.81c.8-.78.8-2.07 0-2.86zM5.41 20L4 18.59l7.72-7.72 1.47 1.35L5.41 20z\"/>\n",
              "  </svg>\n",
              "      </button>\n",
              "      \n",
              "  <style>\n",
              "    .colab-df-container {\n",
              "      display:flex;\n",
              "      flex-wrap:wrap;\n",
              "      gap: 12px;\n",
              "    }\n",
              "\n",
              "    .colab-df-convert {\n",
              "      background-color: #E8F0FE;\n",
              "      border: none;\n",
              "      border-radius: 50%;\n",
              "      cursor: pointer;\n",
              "      display: none;\n",
              "      fill: #1967D2;\n",
              "      height: 32px;\n",
              "      padding: 0 0 0 0;\n",
              "      width: 32px;\n",
              "    }\n",
              "\n",
              "    .colab-df-convert:hover {\n",
              "      background-color: #E2EBFA;\n",
              "      box-shadow: 0px 1px 2px rgba(60, 64, 67, 0.3), 0px 1px 3px 1px rgba(60, 64, 67, 0.15);\n",
              "      fill: #174EA6;\n",
              "    }\n",
              "\n",
              "    [theme=dark] .colab-df-convert {\n",
              "      background-color: #3B4455;\n",
              "      fill: #D2E3FC;\n",
              "    }\n",
              "\n",
              "    [theme=dark] .colab-df-convert:hover {\n",
              "      background-color: #434B5C;\n",
              "      box-shadow: 0px 1px 3px 1px rgba(0, 0, 0, 0.15);\n",
              "      filter: drop-shadow(0px 1px 2px rgba(0, 0, 0, 0.3));\n",
              "      fill: #FFFFFF;\n",
              "    }\n",
              "  </style>\n",
              "\n",
              "      <script>\n",
              "        const buttonEl =\n",
              "          document.querySelector('#df-75d617e8-87ed-48b9-b2cd-cb6a4106ee32 button.colab-df-convert');\n",
              "        buttonEl.style.display =\n",
              "          google.colab.kernel.accessAllowed ? 'block' : 'none';\n",
              "\n",
              "        async function convertToInteractive(key) {\n",
              "          const element = document.querySelector('#df-75d617e8-87ed-48b9-b2cd-cb6a4106ee32');\n",
              "          const dataTable =\n",
              "            await google.colab.kernel.invokeFunction('convertToInteractive',\n",
              "                                                     [key], {});\n",
              "          if (!dataTable) return;\n",
              "\n",
              "          const docLinkHtml = 'Like what you see? Visit the ' +\n",
              "            '<a target=\"_blank\" href=https://colab.research.google.com/notebooks/data_table.ipynb>data table notebook</a>'\n",
              "            + ' to learn more about interactive tables.';\n",
              "          element.innerHTML = '';\n",
              "          dataTable['output_type'] = 'display_data';\n",
              "          await google.colab.output.renderOutput(dataTable, element);\n",
              "          const docLink = document.createElement('div');\n",
              "          docLink.innerHTML = docLinkHtml;\n",
              "          element.appendChild(docLink);\n",
              "        }\n",
              "      </script>\n",
              "    </div>\n",
              "  </div>\n",
              "  "
            ],
            "text/plain": [
              "   id  container id  scenario  ...  handover start timestamp  handover hand  nframes\n",
              "0   0             2         2  ...                        -1             -1   291576\n",
              "1   1             7         0  ...                        -1             -1   118483\n",
              "2   2             2         0  ...                        -1             -1   572008\n",
              "3   3             8         0  ...                        -1             -1   141680\n",
              "4   4             4         1  ...                        -1             -1   138681\n",
              "\n",
              "[5 rows x 20 columns]"
            ]
          },
          "metadata": {},
          "execution_count": 44
        }
      ],
      "source": [
        "f = open('./ccm_train_annotation.json')\n",
        "data = json.load(f)\n",
        "\n",
        "gt = pd.DataFrame(data['annotations'])\n",
        "assert len(gt) == len(os.listdir('./train/audio')), \"Same number of data\"\n",
        "\n",
        "gt['nframes'] = gt['id'].apply(lambda f: wave.open('./train/audio/' + '{:06d}'.format(f)+'.wav').getnframes())\n",
        "gt.head()\n"
      ]
    },
    {
      "cell_type": "code",
      "execution_count": null,
      "metadata": {
        "id": "Y5KEWuBmVRz0"
      },
      "outputs": [],
      "source": [
        "_, ax = plt.subplots(figsize=(16, 4))\n",
        "sns.violinplot(ax=ax, x=\"filling type\", y=\"nframes\", data=gt)\n",
        "plt.xticks(rotation=90)\n",
        "plt.title('Distribution of audio frames, per label', fontsize=16)\n",
        "plt.show()"
      ]
    },
    {
      "cell_type": "code",
      "execution_count": null,
      "metadata": {
        "id": "z51Psgo0VRz3"
      },
      "outputs": [],
      "source": [
        "fig, axes = plt.subplots(nrows=1, ncols=1, figsize=(16,5))\n",
        "gt.nframes.hist(bins=100, ax=axes)\n",
        "plt.suptitle('Frame Length Distribution in Train and Test', ha='center', fontsize='large');"
      ]
    },
    {
      "cell_type": "code",
      "execution_count": null,
      "metadata": {
        "id": "GmwHm74sVRz5"
      },
      "outputs": [],
      "source": [
        "IPython.display.display(ipd.Audio('./train/audio/000377.wav'))"
      ]
    },
    {
      "cell_type": "code",
      "execution_count": null,
      "metadata": {
        "id": "htta6FDIVRz5"
      },
      "outputs": [],
      "source": [
        "# ann = pd.read_csv('annotations.csv')\n",
        "# ann.head()"
      ]
    },
    {
      "cell_type": "code",
      "execution_count": null,
      "metadata": {
        "id": "dIK0thWRDopj"
      },
      "outputs": [],
      "source": [
        "input_audio_filename = \"./train/audio/000000.wav\"\n",
        "samplerate, data = wavfile.read(input_audio_filename)\n",
        "print(samplerate, data.shape)"
      ]
    },
    {
      "cell_type": "code",
      "execution_count": null,
      "metadata": {
        "id": "uDaHcA-wFOUG"
      },
      "outputs": [],
      "source": [
        "length = data.shape[0] / samplerate\n",
        "time = np.linspace(0., length, data.shape[0])\n",
        "\n",
        "for i in range(data.shape[1]):\n",
        "  plt.plot(time, data[:, i], label=\"{} channel\".format(i))\n",
        "\n",
        "# 8 view sound\n",
        "plt.show()"
      ]
    },
    {
      "cell_type": "code",
      "execution_count": null,
      "metadata": {
        "id": "cfuvi-0BVRz8"
      },
      "outputs": [],
      "source": [
        "data, _ = librosa.core.load('./train/audio/000000.wav', \n",
        "                                    sr=160000,\n",
        "                                    res_type='kaiser_fast')"
      ]
    },
    {
      "cell_type": "code",
      "execution_count": null,
      "metadata": {
        "id": "rBs5UYmzHquB"
      },
      "outputs": [],
      "source": [
        "IPython.display.Audio(data, rate=samplerate)"
      ]
    },
    {
      "cell_type": "code",
      "execution_count": null,
      "metadata": {
        "id": "hqaYMyAKPOvh"
      },
      "outputs": [],
      "source": [
        "\n",
        "audio_path = os.listdir('./train/audio')\n",
        "audios = []\n",
        "\n",
        "longest = 0\n",
        "shortest = float('inf')\n",
        "for files in audio_path:\n",
        "  samplerate, data = wavfile.read(os.path.join('./train/audio', files))\n",
        "\n",
        "  if data.shape[0] > longest:\n",
        "    print(files)\n",
        "    longest = data.shape[0]\n",
        "    longest_audio = data\n",
        "  \n",
        "  if data.shape[0] < shortest:\n",
        "    shortest = data.shape[0]\n",
        "    shortest_audio = data\n",
        "\n",
        "print(longest)\n",
        "print(shortest)\n"
      ]
    },
    {
      "cell_type": "code",
      "execution_count": null,
      "metadata": {
        "id": "JwFg-RtRRt-8"
      },
      "outputs": [],
      "source": [
        "IPython.display.Audio(longest_audio[:, 0], rate=samplerate)"
      ]
    },
    {
      "cell_type": "code",
      "execution_count": null,
      "metadata": {
        "id": "IOPADgzGSOki"
      },
      "outputs": [],
      "source": [
        "IPython.display.Audio(shortest_audio[:, 0], rate=samplerate)"
      ]
    },
    {
      "cell_type": "code",
      "execution_count": null,
      "metadata": {
        "id": "IkZU2dwEVR0D"
      },
      "outputs": [],
      "source": [
        "data, _ = librosa.core.load('./train/audio/000001.wav', \n",
        "                                    sr=44100,\n",
        "                                    res_type='kaiser_fast')\n",
        "IPython.display.Audio(data, rate=44100)"
      ]
    },
    {
      "cell_type": "code",
      "execution_count": null,
      "metadata": {
        "id": "Mij064d0VR0E"
      },
      "outputs": [],
      "source": [
        "data_mfcc = librosa.feature.mfcc(data, sr=44100, n_mfcc=40)\n",
        "plt.imshow(data_mfcc, cmap='hot', interpolation='nearest');"
      ]
    },
    {
      "cell_type": "code",
      "execution_count": null,
      "metadata": {
        "id": "T5S988sMVR0E"
      },
      "outputs": [],
      "source": [
        "class audioCorsmal(Dataset):\n",
        "    def __init__(self, data_dir, label, config):\n",
        "        self.data_dir = [os.path.join(data_dir, path) for path in sorted(os.listdir(data_dir))]\n",
        "        self.label = label\n",
        "\n",
        "        self.config = config\n",
        "\n",
        "    def __len__(self):\n",
        "        return len(self.data_dir)\n",
        "    \n",
        "    def __getitem__(self, idx):\n",
        "        data, _ = librosa.core.load(self.data_dir[idx], \n",
        "                                    sr=self.config.sampling_rate,\n",
        "                                    res_type='kaiser_fast')\n",
        "        \n",
        "        \n",
        "            \n",
        "\n",
        "\n",
        "\n"
      ]
    },
    {
      "cell_type": "code",
      "source": [
        "from pyAudioAnalysis import audioBasicIO as aIO \n",
        "\n",
        "\n",
        "def midTermFeature_extraction(file_path):\n",
        "  sampling_rate, signal = aIO.read_audio_file(file_path)\n",
        "  signal = np.mean(signal,axis=1)\n",
        "  mid_features, short_features, mid_feature_names = \\\n",
        "                  aF.mid_feature_extraction(signal, sampling_rate,\n",
        "                                         round(1.0 * sampling_rate),\n",
        "                                         round(1.0 * sampling_rate),\n",
        "                                         round(sampling_rate * aT.shortTermWindow),\n",
        "                                         round(sampling_rate * aT.shortTermStep))\n",
        "                  \n",
        "  mid_features = np.transpose(mid_features)\n",
        "  mid_features = mid_features.mean(axis=0)\n",
        "\n",
        "  return mid_features\n"
      ],
      "metadata": {
        "colab": {
          "base_uri": "https://localhost:8080/"
        },
        "id": "EZ8TyxBjJr1I",
        "outputId": "07e0f0de-068c-4169-e590-df04ab5dc878"
      },
      "execution_count": 58,
      "outputs": [
        {
          "output_type": "stream",
          "name": "stdout",
          "text": [
            "-24.832583874746444\n"
          ]
        }
      ]
    },
    {
      "cell_type": "code",
      "source": [
        "print(gt[gt['filling type']==3]['id'].shape)\n"
      ],
      "metadata": {
        "colab": {
          "base_uri": "https://localhost:8080/"
        },
        "id": "_qtoj5tDPLYV",
        "outputId": "c5f724d1-ad8b-4e7e-8cbb-0ba952026f27"
      },
      "execution_count": 56,
      "outputs": [
        {
          "output_type": "stream",
          "name": "stdout",
          "text": [
            "(144,)\n"
          ]
        }
      ]
    },
    {
      "cell_type": "code",
      "source": [
        "from tqdm.notebook import tqdm\n",
        "audio_folder = './train/audio'\n",
        "\n",
        "audio_paths = [os.path.join(audio_folder, path) for path in sorted(os.listdir(audio_folder))]\n",
        "audio_features = np.array([midTermFeature_extraction(audio_path) for audio_path in tqdm(audio_paths)])\n"
      ],
      "metadata": {
        "colab": {
          "base_uri": "https://localhost:8080/",
          "height": 49,
          "referenced_widgets": [
            "1672e38435a24efc94924680a43f2fe1",
            "d88b6c44d22340a0a00daa1ced8dc697",
            "38ade7604bac4c11a56495a2e2ca1364",
            "2eba0c8464fc402f91f6399fc1800520",
            "16e37ed397734169a06c4fa391b09314",
            "e5a6499df4e8484ca90b85eb238c5751",
            "a64a2aba012b4392ade304a8a690daba",
            "d1fc58c1a00a40e6b4b465b3ab829448",
            "60f7b10aba19463abf7f098b44bcde15",
            "fdaa97bf4b3c42b0b0b3b22e8b6c2677",
            "d18bb5927bee4fb481cc27681f1444a0"
          ]
        },
        "id": "wBKD1t5edUtF",
        "outputId": "f3af394b-ac0e-4e19-96fa-cae8ab97103a"
      },
      "execution_count": 70,
      "outputs": [
        {
          "output_type": "display_data",
          "data": {
            "application/vnd.jupyter.widget-view+json": {
              "model_id": "1672e38435a24efc94924680a43f2fe1",
              "version_minor": 0,
              "version_major": 2
            },
            "text/plain": [
              "  0%|          | 0/684 [00:00<?, ?it/s]"
            ]
          },
          "metadata": {}
        }
      ]
    },
    {
      "cell_type": "code",
      "source": [
        "from sklearn.model_selection import train_test_split\n",
        "\n",
        "train_x, test_x, train_y, test_y = train_test_split(audio_features, \n",
        "                                                    gt['filling type'], \n",
        "                                                    test_size=0.2, \n",
        "                                                    random_state=42)"
      ],
      "metadata": {
        "id": "1LxAfmEOh8qO"
      },
      "execution_count": 77,
      "outputs": []
    },
    {
      "cell_type": "code",
      "source": [
        "from sklearn import preprocessing\n",
        "scaler = preprocessing.StandardScaler().fit(train_x)\n",
        "\n",
        "train_x = scaler.transform(train_x)\n",
        "test_x = scaler.transform(test_x)"
      ],
      "metadata": {
        "id": "5KqBrNdxmbvY"
      },
      "execution_count": 87,
      "outputs": []
    },
    {
      "cell_type": "code",
      "source": [
        "import xgboost as xgb\n",
        "from sklearn.metrics import accuracy_score\n",
        "\n",
        "xgboost_model = xgb.XGBClassifier(learning_rate=0.03,\n",
        "                                  n_estimators=200,\n",
        "                                  max_depth=5,\n",
        "                                  base_score=0.6,\n",
        "                                  gamma=1,\n",
        "                                  subsample=0.3,\n",
        "                                  colsample_bytree=0.7,\n",
        "                                  colsample_bylevel=0.4, \n",
        "                                  scale_pos_weight=5) #learning_rate=0.02,n_estimators=200,max_depth=5,base_score=0.5,scale_pos_weight=1\n",
        "xgboost_model.fit(train_x, train_y)\n",
        "prediction=xgboost_model.predict(test_x)\n",
        "print(\"Acc: \",accuracy_score(test_y,prediction))\n"
      ],
      "metadata": {
        "colab": {
          "base_uri": "https://localhost:8080/"
        },
        "id": "KooOL-wDie9U",
        "outputId": "d2a1bd0d-c1b8-4623-db3d-32bfad6c5469"
      },
      "execution_count": 93,
      "outputs": [
        {
          "output_type": "stream",
          "name": "stdout",
          "text": [
            "Acc:  0.9416058394160584\n"
          ]
        }
      ]
    },
    {
      "cell_type": "code",
      "source": [
        "from numpy import sort\n",
        "from sklearn.feature_selection import SelectFromModel\n",
        "thresholds = np.sort(xgboost_model.feature_importances_)\n",
        "\n",
        "\n",
        "for thresh in thresholds[-120:]:\n",
        "    selection = SelectFromModel(xgboost_model,threshold = thresh,prefit=True)\n",
        "    select_X_train = selection.transform(train_x)\n",
        "    selection_model = xgb.XGBClassifier(learning_rate=0.03,\n",
        "                                        n_estimators=200,\n",
        "                                        max_depth=5,\n",
        "                                        base_score=0.6,\n",
        "                                        gamma=1,\n",
        "                                        subsample=0.3,\n",
        "                                        colsample_bytree=0.7,\n",
        "                                        colsample_bylevel=0.4, \n",
        "                                        scale_pos_weight=5)\n",
        "    selection_model.fit(select_X_train, train_y.values.ravel())\n",
        "    select_X_test = selection.transform(test_x)\n",
        "    prediction = selection_model.predict(select_X_test)\n",
        "    \n",
        "    \n",
        "    print(\"Thresh=%.3f, n=%d, Acc:%.2f%%\" %\n",
        "          (thresh, select_X_train.shape[1], accuracy_score(test_y,prediction) * 100))\n",
        "    "
      ],
      "metadata": {
        "colab": {
          "base_uri": "https://localhost:8080/"
        },
        "id": "CD_cca7Klowy",
        "outputId": "48dd8817-9bf4-4fd4-df67-23c0c962336c"
      },
      "execution_count": 94,
      "outputs": [
        {
          "output_type": "stream",
          "name": "stdout",
          "text": [
            "Thresh=0.004, n=120, Acc:93.43%\n",
            "Thresh=0.004, n=119, Acc:94.16%\n",
            "Thresh=0.004, n=118, Acc:94.89%\n",
            "Thresh=0.004, n=117, Acc:93.43%\n",
            "Thresh=0.004, n=116, Acc:93.43%\n",
            "Thresh=0.004, n=115, Acc:94.16%\n",
            "Thresh=0.004, n=114, Acc:92.70%\n",
            "Thresh=0.004, n=113, Acc:92.70%\n",
            "Thresh=0.004, n=112, Acc:94.16%\n",
            "Thresh=0.004, n=111, Acc:94.16%\n",
            "Thresh=0.004, n=110, Acc:92.70%\n",
            "Thresh=0.004, n=109, Acc:92.70%\n",
            "Thresh=0.005, n=108, Acc:93.43%\n",
            "Thresh=0.005, n=107, Acc:92.70%\n",
            "Thresh=0.005, n=106, Acc:94.16%\n",
            "Thresh=0.005, n=105, Acc:92.70%\n",
            "Thresh=0.005, n=104, Acc:92.70%\n",
            "Thresh=0.005, n=103, Acc:93.43%\n",
            "Thresh=0.005, n=102, Acc:93.43%\n",
            "Thresh=0.005, n=101, Acc:91.97%\n",
            "Thresh=0.005, n=100, Acc:92.70%\n",
            "Thresh=0.005, n=99, Acc:92.70%\n",
            "Thresh=0.005, n=98, Acc:92.70%\n",
            "Thresh=0.005, n=97, Acc:94.16%\n",
            "Thresh=0.005, n=96, Acc:94.16%\n",
            "Thresh=0.005, n=95, Acc:92.70%\n",
            "Thresh=0.005, n=94, Acc:93.43%\n",
            "Thresh=0.005, n=93, Acc:94.89%\n",
            "Thresh=0.005, n=92, Acc:94.16%\n",
            "Thresh=0.005, n=91, Acc:93.43%\n",
            "Thresh=0.005, n=90, Acc:94.89%\n",
            "Thresh=0.005, n=89, Acc:93.43%\n",
            "Thresh=0.005, n=88, Acc:94.89%\n",
            "Thresh=0.005, n=87, Acc:93.43%\n",
            "Thresh=0.005, n=86, Acc:91.97%\n",
            "Thresh=0.005, n=85, Acc:94.16%\n",
            "Thresh=0.005, n=84, Acc:94.16%\n",
            "Thresh=0.006, n=83, Acc:92.70%\n",
            "Thresh=0.006, n=82, Acc:93.43%\n",
            "Thresh=0.006, n=81, Acc:94.16%\n",
            "Thresh=0.006, n=80, Acc:93.43%\n",
            "Thresh=0.006, n=79, Acc:94.16%\n",
            "Thresh=0.006, n=78, Acc:94.16%\n",
            "Thresh=0.006, n=77, Acc:92.70%\n",
            "Thresh=0.006, n=76, Acc:94.89%\n",
            "Thresh=0.006, n=75, Acc:93.43%\n",
            "Thresh=0.006, n=74, Acc:93.43%\n",
            "Thresh=0.006, n=73, Acc:94.89%\n",
            "Thresh=0.006, n=72, Acc:93.43%\n",
            "Thresh=0.006, n=71, Acc:91.97%\n",
            "Thresh=0.006, n=70, Acc:91.97%\n",
            "Thresh=0.007, n=69, Acc:94.16%\n",
            "Thresh=0.007, n=68, Acc:93.43%\n",
            "Thresh=0.007, n=67, Acc:93.43%\n",
            "Thresh=0.007, n=66, Acc:91.97%\n",
            "Thresh=0.007, n=65, Acc:93.43%\n",
            "Thresh=0.007, n=64, Acc:94.16%\n",
            "Thresh=0.007, n=63, Acc:92.70%\n",
            "Thresh=0.007, n=62, Acc:92.70%\n",
            "Thresh=0.007, n=61, Acc:91.97%\n",
            "Thresh=0.007, n=60, Acc:92.70%\n",
            "Thresh=0.007, n=59, Acc:91.97%\n",
            "Thresh=0.007, n=58, Acc:92.70%\n",
            "Thresh=0.007, n=57, Acc:92.70%\n",
            "Thresh=0.007, n=56, Acc:93.43%\n",
            "Thresh=0.007, n=55, Acc:93.43%\n",
            "Thresh=0.007, n=54, Acc:91.97%\n",
            "Thresh=0.007, n=53, Acc:91.97%\n",
            "Thresh=0.008, n=52, Acc:92.70%\n",
            "Thresh=0.008, n=51, Acc:92.70%\n",
            "Thresh=0.008, n=50, Acc:92.70%\n",
            "Thresh=0.008, n=49, Acc:92.70%\n",
            "Thresh=0.008, n=48, Acc:92.70%\n",
            "Thresh=0.008, n=47, Acc:92.70%\n",
            "Thresh=0.008, n=46, Acc:93.43%\n",
            "Thresh=0.008, n=45, Acc:94.16%\n",
            "Thresh=0.008, n=44, Acc:94.16%\n",
            "Thresh=0.008, n=43, Acc:94.89%\n",
            "Thresh=0.008, n=42, Acc:94.16%\n",
            "Thresh=0.008, n=41, Acc:94.16%\n",
            "Thresh=0.008, n=40, Acc:92.70%\n",
            "Thresh=0.008, n=39, Acc:94.16%\n",
            "Thresh=0.009, n=38, Acc:93.43%\n",
            "Thresh=0.009, n=37, Acc:91.97%\n",
            "Thresh=0.009, n=36, Acc:91.97%\n",
            "Thresh=0.009, n=35, Acc:91.97%\n",
            "Thresh=0.009, n=34, Acc:93.43%\n",
            "Thresh=0.009, n=33, Acc:91.24%\n",
            "Thresh=0.009, n=32, Acc:93.43%\n",
            "Thresh=0.009, n=31, Acc:94.16%\n",
            "Thresh=0.010, n=30, Acc:91.97%\n",
            "Thresh=0.010, n=29, Acc:94.16%\n",
            "Thresh=0.010, n=28, Acc:91.24%\n",
            "Thresh=0.010, n=27, Acc:94.16%\n",
            "Thresh=0.010, n=26, Acc:92.70%\n",
            "Thresh=0.010, n=25, Acc:91.97%\n",
            "Thresh=0.010, n=24, Acc:91.97%\n",
            "Thresh=0.011, n=23, Acc:91.24%\n",
            "Thresh=0.011, n=22, Acc:90.51%\n",
            "Thresh=0.011, n=21, Acc:91.24%\n",
            "Thresh=0.011, n=20, Acc:91.24%\n",
            "Thresh=0.011, n=19, Acc:84.67%\n",
            "Thresh=0.011, n=18, Acc:81.75%\n",
            "Thresh=0.011, n=17, Acc:83.94%\n",
            "Thresh=0.012, n=16, Acc:83.94%\n",
            "Thresh=0.012, n=15, Acc:84.67%\n",
            "Thresh=0.012, n=14, Acc:83.94%\n",
            "Thresh=0.013, n=13, Acc:83.21%\n",
            "Thresh=0.013, n=12, Acc:78.83%\n",
            "Thresh=0.015, n=11, Acc:77.37%\n",
            "Thresh=0.015, n=10, Acc:78.10%\n",
            "Thresh=0.015, n=9, Acc:77.37%\n",
            "Thresh=0.015, n=8, Acc:74.45%\n",
            "Thresh=0.016, n=7, Acc:64.96%\n",
            "Thresh=0.016, n=6, Acc:68.61%\n",
            "Thresh=0.016, n=5, Acc:66.42%\n",
            "Thresh=0.016, n=4, Acc:65.69%\n",
            "Thresh=0.017, n=3, Acc:62.77%\n",
            "Thresh=0.017, n=2, Acc:48.18%\n",
            "Thresh=0.017, n=1, Acc:45.26%\n"
          ]
        }
      ]
    }
  ],
  "metadata": {
    "colab": {
      "collapsed_sections": [],
      "name": "EDA_filling_type.ipynb",
      "provenance": []
    },
    "kernelspec": {
      "display_name": "Python 3 (ipykernel)",
      "language": "python",
      "name": "python3"
    },
    "language_info": {
      "codemirror_mode": {
        "name": "ipython",
        "version": 3
      },
      "file_extension": ".py",
      "mimetype": "text/x-python",
      "name": "python",
      "nbconvert_exporter": "python",
      "pygments_lexer": "ipython3",
      "version": "3.7.7"
    },
    "toc": {
      "base_numbering": 1,
      "nav_menu": {},
      "number_sections": true,
      "sideBar": true,
      "skip_h1_title": false,
      "title_cell": "Table of Contents",
      "title_sidebar": "Contents",
      "toc_cell": false,
      "toc_position": {},
      "toc_section_display": true,
      "toc_window_display": false
    },
    "widgets": {
      "application/vnd.jupyter.widget-state+json": {
        "1672e38435a24efc94924680a43f2fe1": {
          "model_module": "@jupyter-widgets/controls",
          "model_name": "HBoxModel",
          "model_module_version": "1.5.0",
          "state": {
            "_view_name": "HBoxView",
            "_dom_classes": [],
            "_model_name": "HBoxModel",
            "_view_module": "@jupyter-widgets/controls",
            "_model_module_version": "1.5.0",
            "_view_count": null,
            "_view_module_version": "1.5.0",
            "box_style": "",
            "layout": "IPY_MODEL_d88b6c44d22340a0a00daa1ced8dc697",
            "_model_module": "@jupyter-widgets/controls",
            "children": [
              "IPY_MODEL_38ade7604bac4c11a56495a2e2ca1364",
              "IPY_MODEL_2eba0c8464fc402f91f6399fc1800520",
              "IPY_MODEL_16e37ed397734169a06c4fa391b09314"
            ]
          }
        },
        "d88b6c44d22340a0a00daa1ced8dc697": {
          "model_module": "@jupyter-widgets/base",
          "model_name": "LayoutModel",
          "model_module_version": "1.2.0",
          "state": {
            "_view_name": "LayoutView",
            "grid_template_rows": null,
            "right": null,
            "justify_content": null,
            "_view_module": "@jupyter-widgets/base",
            "overflow": null,
            "_model_module_version": "1.2.0",
            "_view_count": null,
            "flex_flow": null,
            "width": null,
            "min_width": null,
            "border": null,
            "align_items": null,
            "bottom": null,
            "_model_module": "@jupyter-widgets/base",
            "top": null,
            "grid_column": null,
            "overflow_y": null,
            "overflow_x": null,
            "grid_auto_flow": null,
            "grid_area": null,
            "grid_template_columns": null,
            "flex": null,
            "_model_name": "LayoutModel",
            "justify_items": null,
            "grid_row": null,
            "max_height": null,
            "align_content": null,
            "visibility": null,
            "align_self": null,
            "height": null,
            "min_height": null,
            "padding": null,
            "grid_auto_rows": null,
            "grid_gap": null,
            "max_width": null,
            "order": null,
            "_view_module_version": "1.2.0",
            "grid_template_areas": null,
            "object_position": null,
            "object_fit": null,
            "grid_auto_columns": null,
            "margin": null,
            "display": null,
            "left": null
          }
        },
        "38ade7604bac4c11a56495a2e2ca1364": {
          "model_module": "@jupyter-widgets/controls",
          "model_name": "HTMLModel",
          "model_module_version": "1.5.0",
          "state": {
            "_view_name": "HTMLView",
            "style": "IPY_MODEL_e5a6499df4e8484ca90b85eb238c5751",
            "_dom_classes": [],
            "description": "",
            "_model_name": "HTMLModel",
            "placeholder": "​",
            "_view_module": "@jupyter-widgets/controls",
            "_model_module_version": "1.5.0",
            "value": "100%",
            "_view_count": null,
            "_view_module_version": "1.5.0",
            "description_tooltip": null,
            "_model_module": "@jupyter-widgets/controls",
            "layout": "IPY_MODEL_a64a2aba012b4392ade304a8a690daba"
          }
        },
        "2eba0c8464fc402f91f6399fc1800520": {
          "model_module": "@jupyter-widgets/controls",
          "model_name": "FloatProgressModel",
          "model_module_version": "1.5.0",
          "state": {
            "_view_name": "ProgressView",
            "style": "IPY_MODEL_d1fc58c1a00a40e6b4b465b3ab829448",
            "_dom_classes": [],
            "description": "",
            "_model_name": "FloatProgressModel",
            "bar_style": "success",
            "max": 684,
            "_view_module": "@jupyter-widgets/controls",
            "_model_module_version": "1.5.0",
            "value": 684,
            "_view_count": null,
            "_view_module_version": "1.5.0",
            "orientation": "horizontal",
            "min": 0,
            "description_tooltip": null,
            "_model_module": "@jupyter-widgets/controls",
            "layout": "IPY_MODEL_60f7b10aba19463abf7f098b44bcde15"
          }
        },
        "16e37ed397734169a06c4fa391b09314": {
          "model_module": "@jupyter-widgets/controls",
          "model_name": "HTMLModel",
          "model_module_version": "1.5.0",
          "state": {
            "_view_name": "HTMLView",
            "style": "IPY_MODEL_fdaa97bf4b3c42b0b0b3b22e8b6c2677",
            "_dom_classes": [],
            "description": "",
            "_model_name": "HTMLModel",
            "placeholder": "​",
            "_view_module": "@jupyter-widgets/controls",
            "_model_module_version": "1.5.0",
            "value": " 684/684 [06:11&lt;00:00,  1.59it/s]",
            "_view_count": null,
            "_view_module_version": "1.5.0",
            "description_tooltip": null,
            "_model_module": "@jupyter-widgets/controls",
            "layout": "IPY_MODEL_d18bb5927bee4fb481cc27681f1444a0"
          }
        },
        "e5a6499df4e8484ca90b85eb238c5751": {
          "model_module": "@jupyter-widgets/controls",
          "model_name": "DescriptionStyleModel",
          "model_module_version": "1.5.0",
          "state": {
            "_view_name": "StyleView",
            "_model_name": "DescriptionStyleModel",
            "description_width": "",
            "_view_module": "@jupyter-widgets/base",
            "_model_module_version": "1.5.0",
            "_view_count": null,
            "_view_module_version": "1.2.0",
            "_model_module": "@jupyter-widgets/controls"
          }
        },
        "a64a2aba012b4392ade304a8a690daba": {
          "model_module": "@jupyter-widgets/base",
          "model_name": "LayoutModel",
          "model_module_version": "1.2.0",
          "state": {
            "_view_name": "LayoutView",
            "grid_template_rows": null,
            "right": null,
            "justify_content": null,
            "_view_module": "@jupyter-widgets/base",
            "overflow": null,
            "_model_module_version": "1.2.0",
            "_view_count": null,
            "flex_flow": null,
            "width": null,
            "min_width": null,
            "border": null,
            "align_items": null,
            "bottom": null,
            "_model_module": "@jupyter-widgets/base",
            "top": null,
            "grid_column": null,
            "overflow_y": null,
            "overflow_x": null,
            "grid_auto_flow": null,
            "grid_area": null,
            "grid_template_columns": null,
            "flex": null,
            "_model_name": "LayoutModel",
            "justify_items": null,
            "grid_row": null,
            "max_height": null,
            "align_content": null,
            "visibility": null,
            "align_self": null,
            "height": null,
            "min_height": null,
            "padding": null,
            "grid_auto_rows": null,
            "grid_gap": null,
            "max_width": null,
            "order": null,
            "_view_module_version": "1.2.0",
            "grid_template_areas": null,
            "object_position": null,
            "object_fit": null,
            "grid_auto_columns": null,
            "margin": null,
            "display": null,
            "left": null
          }
        },
        "d1fc58c1a00a40e6b4b465b3ab829448": {
          "model_module": "@jupyter-widgets/controls",
          "model_name": "ProgressStyleModel",
          "model_module_version": "1.5.0",
          "state": {
            "_view_name": "StyleView",
            "_model_name": "ProgressStyleModel",
            "description_width": "",
            "_view_module": "@jupyter-widgets/base",
            "_model_module_version": "1.5.0",
            "_view_count": null,
            "_view_module_version": "1.2.0",
            "bar_color": null,
            "_model_module": "@jupyter-widgets/controls"
          }
        },
        "60f7b10aba19463abf7f098b44bcde15": {
          "model_module": "@jupyter-widgets/base",
          "model_name": "LayoutModel",
          "model_module_version": "1.2.0",
          "state": {
            "_view_name": "LayoutView",
            "grid_template_rows": null,
            "right": null,
            "justify_content": null,
            "_view_module": "@jupyter-widgets/base",
            "overflow": null,
            "_model_module_version": "1.2.0",
            "_view_count": null,
            "flex_flow": null,
            "width": null,
            "min_width": null,
            "border": null,
            "align_items": null,
            "bottom": null,
            "_model_module": "@jupyter-widgets/base",
            "top": null,
            "grid_column": null,
            "overflow_y": null,
            "overflow_x": null,
            "grid_auto_flow": null,
            "grid_area": null,
            "grid_template_columns": null,
            "flex": null,
            "_model_name": "LayoutModel",
            "justify_items": null,
            "grid_row": null,
            "max_height": null,
            "align_content": null,
            "visibility": null,
            "align_self": null,
            "height": null,
            "min_height": null,
            "padding": null,
            "grid_auto_rows": null,
            "grid_gap": null,
            "max_width": null,
            "order": null,
            "_view_module_version": "1.2.0",
            "grid_template_areas": null,
            "object_position": null,
            "object_fit": null,
            "grid_auto_columns": null,
            "margin": null,
            "display": null,
            "left": null
          }
        },
        "fdaa97bf4b3c42b0b0b3b22e8b6c2677": {
          "model_module": "@jupyter-widgets/controls",
          "model_name": "DescriptionStyleModel",
          "model_module_version": "1.5.0",
          "state": {
            "_view_name": "StyleView",
            "_model_name": "DescriptionStyleModel",
            "description_width": "",
            "_view_module": "@jupyter-widgets/base",
            "_model_module_version": "1.5.0",
            "_view_count": null,
            "_view_module_version": "1.2.0",
            "_model_module": "@jupyter-widgets/controls"
          }
        },
        "d18bb5927bee4fb481cc27681f1444a0": {
          "model_module": "@jupyter-widgets/base",
          "model_name": "LayoutModel",
          "model_module_version": "1.2.0",
          "state": {
            "_view_name": "LayoutView",
            "grid_template_rows": null,
            "right": null,
            "justify_content": null,
            "_view_module": "@jupyter-widgets/base",
            "overflow": null,
            "_model_module_version": "1.2.0",
            "_view_count": null,
            "flex_flow": null,
            "width": null,
            "min_width": null,
            "border": null,
            "align_items": null,
            "bottom": null,
            "_model_module": "@jupyter-widgets/base",
            "top": null,
            "grid_column": null,
            "overflow_y": null,
            "overflow_x": null,
            "grid_auto_flow": null,
            "grid_area": null,
            "grid_template_columns": null,
            "flex": null,
            "_model_name": "LayoutModel",
            "justify_items": null,
            "grid_row": null,
            "max_height": null,
            "align_content": null,
            "visibility": null,
            "align_self": null,
            "height": null,
            "min_height": null,
            "padding": null,
            "grid_auto_rows": null,
            "grid_gap": null,
            "max_width": null,
            "order": null,
            "_view_module_version": "1.2.0",
            "grid_template_areas": null,
            "object_position": null,
            "object_fit": null,
            "grid_auto_columns": null,
            "margin": null,
            "display": null,
            "left": null
          }
        }
      }
    }
  },
  "nbformat": 4,
  "nbformat_minor": 0
}